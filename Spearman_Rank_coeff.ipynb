{
 "cells": [
  {
   "cell_type": "markdown",
   "metadata": {},
   "source": [
    "# 1-Spearman's Rank corelation coefficient\n"
   ]
  },
  {
   "cell_type": "code",
   "execution_count": 1,
   "metadata": {},
   "outputs": [
    {
     "name": "stdout",
     "output_type": "stream",
     "text": [
      "Rankings of X:\n",
      "0    1.5\n",
      "1    3.0\n",
      "2    4.5\n",
      "3    1.5\n",
      "4    4.5\n",
      "dtype: float64\n",
      "Ranking of Y:\n",
      "0    1.5\n",
      "1    1.5\n",
      "2    4.0\n",
      "3    4.0\n",
      "4    4.0\n",
      "dtype: float64\n",
      "Spearmans Rank correlation: 0.4564354645876384\n"
     ]
    }
   ],
   "source": [
    "import pandas as pd\n",
    "import scipy.stats\n",
    "# Two lists x and y\n",
    "x = [15, 18, 21, 15, 21]\n",
    "y = [25, 25, 27, 27, 27]\n",
    "# Create function that takes in x's and y's\n",
    "def spearmans_rank_correlation(x,y):\n",
    "    # Calculate the rank of x's\n",
    "    xranks = pd.Series(x).rank()\n",
    "    print(\"Rankings of X:\")\n",
    "    print (xranks)\n",
    "    # Calculate the ranking of y's \n",
    "    yranks = pd.Series(y).rank()\n",
    "    \n",
    "    print (\"Ranking of Y:\")\n",
    "    print (yranks)\n",
    "    # calculate pearson correlation coefficient on rank versions of data\n",
    "    print(\"Spearmans Rank correlation:\", scipy.stats.pearsonr(xranks, yranks)[0])\n",
    "# call a function\n",
    "spearmans_rank_correlation(x,y)\n",
    "    "
   ]
  },
  {
   "cell_type": "code",
   "execution_count": null,
   "metadata": {},
   "outputs": [],
   "source": []
  }
 ],
 "metadata": {
  "kernelspec": {
   "display_name": "base",
   "language": "python",
   "name": "python3"
  },
  "language_info": {
   "codemirror_mode": {
    "name": "ipython",
    "version": 3
   },
   "file_extension": ".py",
   "mimetype": "text/x-python",
   "name": "python",
   "nbconvert_exporter": "python",
   "pygments_lexer": "ipython3",
   "version": "3.12.4"
  }
 },
 "nbformat": 4,
 "nbformat_minor": 2
}
